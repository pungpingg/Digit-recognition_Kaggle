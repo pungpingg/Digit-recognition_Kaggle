{
 "cells": [
  {
   "cell_type": "code",
   "execution_count": 1,
   "id": "e9d2a322",
   "metadata": {
    "_cell_guid": "b1076dfc-b9ad-4769-8c92-a6c4dae69d19",
    "_uuid": "8f2839f25d086af736a60e9eeb907d3b93b6e0e5",
    "execution": {
     "iopub.execute_input": "2023-02-04T22:39:30.258332Z",
     "iopub.status.busy": "2023-02-04T22:39:30.257686Z",
     "iopub.status.idle": "2023-02-04T22:39:37.987073Z",
     "shell.execute_reply": "2023-02-04T22:39:37.985657Z"
    },
    "papermill": {
     "duration": 7.743536,
     "end_time": "2023-02-04T22:39:37.990857",
     "exception": false,
     "start_time": "2023-02-04T22:39:30.247321",
     "status": "completed"
    },
    "tags": []
   },
   "outputs": [
    {
     "name": "stdout",
     "output_type": "stream",
     "text": [
      "/kaggle/input/digit-recognizer/sample_submission.csv\n",
      "/kaggle/input/digit-recognizer/train.csv\n",
      "/kaggle/input/digit-recognizer/test.csv\n"
     ]
    }
   ],
   "source": [
    "# This Python 3 environment comes with many helpful analytics libraries installed\n",
    "# It is defined by the kaggle/python Docker image: https://github.com/kaggle/docker-python\n",
    "# For example, here's several helpful packages to load\n",
    "\n",
    "import numpy as np # linear algebra\n",
    "import pandas as pd # data processing, CSV file I/O (e.g. pd.read_csv)\n",
    "from tensorflow.keras.models import Sequential\n",
    "from tensorflow.keras.layers import Dense\n",
    "from tensorflow.keras.optimizers import SGD\n",
    "from tensorflow.keras.datasets import mnist\n",
    "import matplotlib.pyplot as plt\n",
    "from IPython import display\n",
    "import seaborn as sns\n",
    "\n",
    "# Input data files are available in the read-only \"../input/\" directory\n",
    "# For example, running this (by clicking run or pressing Shift+Enter) will list all files under the input directory\n",
    "\n",
    "import os\n",
    "for dirname, _, filenames in os.walk('/kaggle/input'):\n",
    "    for filename in filenames:\n",
    "        print(os.path.join(dirname, filename))\n",
    "\n",
    "# You can write up to 20GB to the current directory (/kaggle/working/) that gets preserved as output when you create a version using \"Save & Run All\" \n",
    "# You can also write temporary files to /kaggle/temp/, but they won't be saved outside of the current session"
   ]
  },
  {
   "cell_type": "markdown",
   "id": "61692a29",
   "metadata": {
    "papermill": {
     "duration": 0.007853,
     "end_time": "2023-02-04T22:39:38.007329",
     "exception": false,
     "start_time": "2023-02-04T22:39:37.999476",
     "status": "completed"
    },
    "tags": []
   },
   "source": [
    "# #Welcome to digit recongizer project!\n",
    "In this project, we try our best to create the model that predict the number hand written by applying classification using a neural network(MLP) with Keres\n",
    "1) Explore our data <br>\n",
    "2) Split Train, Test, Validatoin <br>\n",
    "3) Normalize and change the data type <br>\n",
    "4) define the MLP model <br>\n",
    "5) Train the model <br>\n",
    "6) Predict the test data <br>\n",
    "7) Submit the prediction"
   ]
  },
  {
   "cell_type": "code",
   "execution_count": 2,
   "id": "7a96eb81",
   "metadata": {
    "execution": {
     "iopub.execute_input": "2023-02-04T22:39:38.025267Z",
     "iopub.status.busy": "2023-02-04T22:39:38.024164Z",
     "iopub.status.idle": "2023-02-04T22:40:12.300861Z",
     "shell.execute_reply": "2023-02-04T22:40:12.299684Z"
    },
    "papermill": {
     "duration": 34.289016,
     "end_time": "2023-02-04T22:40:12.303820",
     "exception": false,
     "start_time": "2023-02-04T22:39:38.014804",
     "status": "completed"
    },
    "tags": []
   },
   "outputs": [],
   "source": [
    "train_data = np.loadtxt('../input/digit-recognizer/train.csv', delimiter=',', skiprows=1)\n",
    "test_data = np.loadtxt('../input/digit-recognizer/test.csv', delimiter=',', skiprows=1)\n",
    "submission = pd.read_csv('/kaggle/input/digit-recognizer/sample_submission.csv',index_col=0)"
   ]
  },
  {
   "cell_type": "code",
   "execution_count": 3,
   "id": "918aa7f5",
   "metadata": {
    "execution": {
     "iopub.execute_input": "2023-02-04T22:40:12.321294Z",
     "iopub.status.busy": "2023-02-04T22:40:12.320285Z",
     "iopub.status.idle": "2023-02-04T22:40:12.326971Z",
     "shell.execute_reply": "2023-02-04T22:40:12.325604Z"
    },
    "papermill": {
     "duration": 0.018266,
     "end_time": "2023-02-04T22:40:12.329777",
     "exception": false,
     "start_time": "2023-02-04T22:40:12.311511",
     "status": "completed"
    },
    "tags": []
   },
   "outputs": [
    {
     "name": "stdout",
     "output_type": "stream",
     "text": [
      "Train Shape: (42000, 785)\n",
      "Test Shape: (28000, 784)\n"
     ]
    }
   ],
   "source": [
    "print(\"Train Shape:\", train_data.shape)\n",
    "print(\"Test Shape:\", test_data.shape)"
   ]
  },
  {
   "cell_type": "code",
   "execution_count": 4,
   "id": "6488d90f",
   "metadata": {
    "execution": {
     "iopub.execute_input": "2023-02-04T22:40:12.346247Z",
     "iopub.status.busy": "2023-02-04T22:40:12.345817Z",
     "iopub.status.idle": "2023-02-04T22:40:12.355558Z",
     "shell.execute_reply": "2023-02-04T22:40:12.354496Z"
    },
    "papermill": {
     "duration": 0.020496,
     "end_time": "2023-02-04T22:40:12.357712",
     "exception": false,
     "start_time": "2023-02-04T22:40:12.337216",
     "status": "completed"
    },
    "tags": []
   },
   "outputs": [
    {
     "data": {
      "text/plain": [
       "255.0"
      ]
     },
     "execution_count": 4,
     "metadata": {},
     "output_type": "execute_result"
    }
   ],
   "source": [
    "train_data[0].max()"
   ]
  },
  {
   "cell_type": "code",
   "execution_count": 5,
   "id": "b6446570",
   "metadata": {
    "execution": {
     "iopub.execute_input": "2023-02-04T22:40:12.374613Z",
     "iopub.status.busy": "2023-02-04T22:40:12.373524Z",
     "iopub.status.idle": "2023-02-04T22:40:12.379912Z",
     "shell.execute_reply": "2023-02-04T22:40:12.379071Z"
    },
    "papermill": {
     "duration": 0.016924,
     "end_time": "2023-02-04T22:40:12.381954",
     "exception": false,
     "start_time": "2023-02-04T22:40:12.365030",
     "status": "completed"
    },
    "tags": []
   },
   "outputs": [
    {
     "data": {
      "text/plain": [
       "(42000, 784)"
      ]
     },
     "execution_count": 5,
     "metadata": {},
     "output_type": "execute_result"
    }
   ],
   "source": [
    "train_data[:, 1:].shape"
   ]
  },
  {
   "cell_type": "markdown",
   "id": "338a1057",
   "metadata": {
    "papermill": {
     "duration": 0.007704,
     "end_time": "2023-02-04T22:40:12.397053",
     "exception": false,
     "start_time": "2023-02-04T22:40:12.389349",
     "status": "completed"
    },
    "tags": []
   },
   "source": [
    "# # 2) Split training and validation data"
   ]
  },
  {
   "cell_type": "code",
   "execution_count": 6,
   "id": "beb45fd5",
   "metadata": {
    "execution": {
     "iopub.execute_input": "2023-02-04T22:40:12.415095Z",
     "iopub.status.busy": "2023-02-04T22:40:12.414335Z",
     "iopub.status.idle": "2023-02-04T22:40:12.419077Z",
     "shell.execute_reply": "2023-02-04T22:40:12.417993Z"
    },
    "papermill": {
     "duration": 0.015484,
     "end_time": "2023-02-04T22:40:12.421242",
     "exception": false,
     "start_time": "2023-02-04T22:40:12.405758",
     "status": "completed"
    },
    "tags": []
   },
   "outputs": [],
   "source": [
    "x_train = train_data[:, 1:]\n",
    "y_train = train_data[:, 0]\n",
    "x_test = test_data"
   ]
  },
  {
   "cell_type": "code",
   "execution_count": 7,
   "id": "854e73da",
   "metadata": {
    "execution": {
     "iopub.execute_input": "2023-02-04T22:40:12.438209Z",
     "iopub.status.busy": "2023-02-04T22:40:12.437462Z",
     "iopub.status.idle": "2023-02-04T22:40:12.443200Z",
     "shell.execute_reply": "2023-02-04T22:40:12.441789Z"
    },
    "papermill": {
     "duration": 0.01712,
     "end_time": "2023-02-04T22:40:12.445765",
     "exception": false,
     "start_time": "2023-02-04T22:40:12.428645",
     "status": "completed"
    },
    "tags": []
   },
   "outputs": [
    {
     "name": "stdout",
     "output_type": "stream",
     "text": [
      "(42000, 784)\n",
      "(42000,)\n",
      "(28000, 784)\n"
     ]
    }
   ],
   "source": [
    "print(x_train.shape)\n",
    "print(y_train.shape)\n",
    "print(x_test.shape)"
   ]
  },
  {
   "cell_type": "code",
   "execution_count": 8,
   "id": "28581e7a",
   "metadata": {
    "execution": {
     "iopub.execute_input": "2023-02-04T22:40:12.463269Z",
     "iopub.status.busy": "2023-02-04T22:40:12.462867Z",
     "iopub.status.idle": "2023-02-04T22:40:40.156885Z",
     "shell.execute_reply": "2023-02-04T22:40:40.155472Z"
    },
    "papermill": {
     "duration": 27.706044,
     "end_time": "2023-02-04T22:40:40.159797",
     "exception": false,
     "start_time": "2023-02-04T22:40:12.453753",
     "status": "completed"
    },
    "tags": []
   },
   "outputs": [
    {
     "data": {
      "image/png": "[encoded data removed]",
      "text/plain": [
       "<Figure size 216x216 with 1 Axes>"
      ]
     },
     "metadata": {},
     "output_type": "display_data"
    },
    {
     "data": {
      "text/plain": [
       "<Figure size 432x288 with 0 Axes>"
      ]
     },
     "metadata": {},
     "output_type": "display_data"
    }
   ],
   "source": [
    "fig, ax = plt.subplots(figsize=(3, 3))\n",
    "for n in range(0, x_train.shape[0], 1000):\n",
    "    Image = x_train[n,:].reshape(28,28)\n",
    "    ax.imshow(Image, cmap='gray')\n",
    "    ax.set_title('label display: ' + str(int(y_train[n])), fontsize=16)\n",
    "    ax.axis('off')\n",
    "    plt.draw()\n",
    "    display.clear_output(wait=True)\n",
    "    display.display(fig)\n",
    "    plt.pause(0.5)"
   ]
  },
  {
   "cell_type": "code",
   "execution_count": 9,
   "id": "dafd5a06",
   "metadata": {
    "execution": {
     "iopub.execute_input": "2023-02-04T22:40:40.178329Z",
     "iopub.status.busy": "2023-02-04T22:40:40.177921Z",
     "iopub.status.idle": "2023-02-04T22:40:40.513001Z",
     "shell.execute_reply": "2023-02-04T22:40:40.511645Z"
    },
    "papermill": {
     "duration": 0.347914,
     "end_time": "2023-02-04T22:40:40.515933",
     "exception": false,
     "start_time": "2023-02-04T22:40:40.168019",
     "status": "completed"
    },
    "tags": []
   },
   "outputs": [],
   "source": [
    "from sklearn.model_selection import train_test_split\n",
    "x_train, x_val, y_train, y_val = train_test_split(x_train, y_train, test_size=0.1, random_state=0)"
   ]
  },
  {
   "cell_type": "code",
   "execution_count": 10,
   "id": "7977da05",
   "metadata": {
    "execution": {
     "iopub.execute_input": "2023-02-04T22:40:40.533815Z",
     "iopub.status.busy": "2023-02-04T22:40:40.533375Z",
     "iopub.status.idle": "2023-02-04T22:40:40.540739Z",
     "shell.execute_reply": "2023-02-04T22:40:40.539195Z"
    },
    "papermill": {
     "duration": 0.019446,
     "end_time": "2023-02-04T22:40:40.543286",
     "exception": false,
     "start_time": "2023-02-04T22:40:40.523840",
     "status": "completed"
    },
    "tags": []
   },
   "outputs": [
    {
     "name": "stdout",
     "output_type": "stream",
     "text": [
      "x_train: (37800, 784)\n",
      "y_train: (37800,)\n",
      "x_val: (4200, 784)\n",
      "y_val: (4200,)\n",
      "x_test: (28000, 784)\n"
     ]
    }
   ],
   "source": [
    "print('x_train:', x_train.shape)\n",
    "print('y_train:', y_train.shape)\n",
    "print('x_val:', x_val.shape)\n",
    "print('y_val:', y_val.shape)\n",
    "print('x_test:', x_test.shape)"
   ]
  },
  {
   "cell_type": "code",
   "execution_count": 11,
   "id": "cca8d54b",
   "metadata": {
    "execution": {
     "iopub.execute_input": "2023-02-04T22:40:40.561269Z",
     "iopub.status.busy": "2023-02-04T22:40:40.560371Z",
     "iopub.status.idle": "2023-02-04T22:40:40.568414Z",
     "shell.execute_reply": "2023-02-04T22:40:40.567163Z"
    },
    "papermill": {
     "duration": 0.019642,
     "end_time": "2023-02-04T22:40:40.570852",
     "exception": false,
     "start_time": "2023-02-04T22:40:40.551210",
     "status": "completed"
    },
    "tags": []
   },
   "outputs": [
    {
     "data": {
      "text/plain": [
       "255.0"
      ]
     },
     "execution_count": 11,
     "metadata": {},
     "output_type": "execute_result"
    }
   ],
   "source": [
    "x_train[0].max()"
   ]
  },
  {
   "cell_type": "markdown",
   "id": "24192309",
   "metadata": {
    "papermill": {
     "duration": 0.007707,
     "end_time": "2023-02-04T22:40:40.586653",
     "exception": false,
     "start_time": "2023-02-04T22:40:40.578946",
     "status": "completed"
    },
    "tags": []
   },
   "source": [
    "# 3) Normalization and change type"
   ]
  },
  {
   "cell_type": "code",
   "execution_count": 12,
   "id": "0fe4ef1c",
   "metadata": {
    "execution": {
     "iopub.execute_input": "2023-02-04T22:40:40.605915Z",
     "iopub.status.busy": "2023-02-04T22:40:40.605402Z",
     "iopub.status.idle": "2023-02-04T22:40:40.729171Z",
     "shell.execute_reply": "2023-02-04T22:40:40.727903Z"
    },
    "papermill": {
     "duration": 0.136939,
     "end_time": "2023-02-04T22:40:40.732011",
     "exception": false,
     "start_time": "2023-02-04T22:40:40.595072",
     "status": "completed"
    },
    "tags": []
   },
   "outputs": [],
   "source": [
    "#normalization (from the maximum)\n",
    "x_train /= 255\n",
    "x_val /= 255\n",
    "x_test /= 255\n",
    "\n",
    "#change type\n",
    "x_train = x_train.astype('float32')\n",
    "x_test = x_test.astype('float32')"
   ]
  },
  {
   "cell_type": "code",
   "execution_count": 13,
   "id": "dd3b60ba",
   "metadata": {
    "execution": {
     "iopub.execute_input": "2023-02-04T22:40:40.750091Z",
     "iopub.status.busy": "2023-02-04T22:40:40.749679Z",
     "iopub.status.idle": "2023-02-04T22:40:40.948968Z",
     "shell.execute_reply": "2023-02-04T22:40:40.947633Z"
    },
    "papermill": {
     "duration": 0.211093,
     "end_time": "2023-02-04T22:40:40.951503",
     "exception": false,
     "start_time": "2023-02-04T22:40:40.740410",
     "status": "completed"
    },
    "tags": []
   },
   "outputs": [
    {
     "name": "stdout",
     "output_type": "stream",
     "text": [
      "check the answer 2.0\n"
     ]
    },
    {
     "data": {
      "image/png": "[encoded data removed]",
      "text/plain": [
       "<Figure size 432x288 with 1 Axes>"
      ]
     },
     "metadata": {
      "needs_background": "light"
     },
     "output_type": "display_data"
    }
   ],
   "source": [
    "#show the image(x_train) and key answer (y_train)\n",
    "plt.imshow(x_train[0].reshape(28,28), cmap='gray')\n",
    "print(\"check the answer\", y_train[0])"
   ]
  },
  {
   "cell_type": "markdown",
   "id": "8134effd",
   "metadata": {
    "papermill": {
     "duration": 0.007856,
     "end_time": "2023-02-04T22:40:40.967791",
     "exception": false,
     "start_time": "2023-02-04T22:40:40.959935",
     "status": "completed"
    },
    "tags": []
   },
   "source": [
    "# 4) Define the MPL model"
   ]
  },
  {
   "cell_type": "code",
   "execution_count": 14,
   "id": "8cda5f10",
   "metadata": {
    "execution": {
     "iopub.execute_input": "2023-02-04T22:40:40.986193Z",
     "iopub.status.busy": "2023-02-04T22:40:40.985706Z",
     "iopub.status.idle": "2023-02-04T22:40:41.134932Z",
     "shell.execute_reply": "2023-02-04T22:40:41.133382Z"
    },
    "papermill": {
     "duration": 0.16188,
     "end_time": "2023-02-04T22:40:41.137785",
     "exception": false,
     "start_time": "2023-02-04T22:40:40.975905",
     "status": "completed"
    },
    "tags": []
   },
   "outputs": [
    {
     "name": "stdout",
     "output_type": "stream",
     "text": [
      "Model: \"sequential\"\n",
      "_________________________________________________________________\n",
      "Layer (type)                 Output Shape              Param #   \n",
      "=================================================================\n",
      "dense (Dense)                (None, 256)               200960    \n",
      "_________________________________________________________________\n",
      "dense_1 (Dense)              (None, 256)               65792     \n",
      "_________________________________________________________________\n",
      "dense_2 (Dense)              (None, 10)                2570      \n",
      "=================================================================\n",
      "Total params: 269,322\n",
      "Trainable params: 269,322\n",
      "Non-trainable params: 0\n",
      "_________________________________________________________________\n"
     ]
    },
    {
     "name": "stderr",
     "output_type": "stream",
     "text": [
      "2023-02-04 22:40:41.026582: I tensorflow/core/common_runtime/process_util.cc:146] Creating new thread pool with default inter op setting: 2. Tune using inter_op_parallelism_threads for best performance.\n",
      "/opt/conda/lib/python3.7/site-packages/keras/optimizer_v2/optimizer_v2.py:356: UserWarning: The `lr` argument is deprecated, use `learning_rate` instead.\n",
      "  \"The `lr` argument is deprecated, use `learning_rate` instead.\")\n"
     ]
    }
   ],
   "source": [
    "model = Sequential()\n",
    "model.add(Dense(units=256, activation='relu', input_shape=(784,)))\n",
    "model.add(Dense(units=256, activation='relu'))\n",
    "model.add(Dense(units=10,  activation='softmax'))\n",
    "model.compile(loss='sparse_categorical_crossentropy', optimizer=SGD(lr=0.01, momentum=0.9),\n",
    "              metrics=['accuracy'])\n",
    "model.summary()"
   ]
  },
  {
   "cell_type": "code",
   "execution_count": 15,
   "id": "c40976cf",
   "metadata": {
    "execution": {
     "iopub.execute_input": "2023-02-04T22:40:41.156725Z",
     "iopub.status.busy": "2023-02-04T22:40:41.155977Z",
     "iopub.status.idle": "2023-02-04T22:40:41.161032Z",
     "shell.execute_reply": "2023-02-04T22:40:41.159807Z"
    },
    "papermill": {
     "duration": 0.017404,
     "end_time": "2023-02-04T22:40:41.163510",
     "exception": false,
     "start_time": "2023-02-04T22:40:41.146106",
     "status": "completed"
    },
    "tags": []
   },
   "outputs": [],
   "source": [
    "# create a list to store the accuracy rate\n",
    "loss_train_list=[]\n",
    "loss_val_list=[]\n",
    "acc_train_list=[]\n",
    "acc_val_list=[]"
   ]
  },
  {
   "cell_type": "markdown",
   "id": "457d7ebb",
   "metadata": {
    "papermill": {
     "duration": 0.008156,
     "end_time": "2023-02-04T22:40:41.180489",
     "exception": false,
     "start_time": "2023-02-04T22:40:41.172333",
     "status": "completed"
    },
    "tags": []
   },
   "source": [
    "# 5) Train the model"
   ]
  },
  {
   "cell_type": "code",
   "execution_count": 16,
   "id": "53e83569",
   "metadata": {
    "execution": {
     "iopub.execute_input": "2023-02-04T22:40:41.201984Z",
     "iopub.status.busy": "2023-02-04T22:40:41.200563Z",
     "iopub.status.idle": "2023-02-04T22:42:00.674768Z",
     "shell.execute_reply": "2023-02-04T22:42:00.673566Z"
    },
    "papermill": {
     "duration": 79.489203,
     "end_time": "2023-02-04T22:42:00.677961",
     "exception": false,
     "start_time": "2023-02-04T22:40:41.188758",
     "status": "completed"
    },
    "tags": []
   },
   "outputs": [
    {
     "name": "stdout",
     "output_type": "stream",
     "text": [
      "epoch 0\n"
     ]
    },
    {
     "name": "stderr",
     "output_type": "stream",
     "text": [
      "2023-02-04 22:40:41.414237: I tensorflow/compiler/mlir/mlir_graph_optimization_pass.cc:185] None of the MLIR Optimization Passes are enabled (registered 2)\n"
     ]
    },
    {
     "name": "stdout",
     "output_type": "stream",
     "text": [
      "591/591 [==============================] - 3s 5ms/step - loss: 0.4121 - accuracy: 0.8804 - val_loss: 0.2546 - val_accuracy: 0.9262\n",
      "epoch 1\n",
      "591/591 [==============================] - 3s 5ms/step - loss: 0.1801 - accuracy: 0.9462 - val_loss: 0.1744 - val_accuracy: 0.9498\n",
      "epoch 2\n",
      "591/591 [==============================] - 3s 5ms/step - loss: 0.1257 - accuracy: 0.9633 - val_loss: 0.1481 - val_accuracy: 0.9576\n",
      "epoch 3\n",
      "591/591 [==============================] - 3s 4ms/step - loss: 0.0962 - accuracy: 0.9710 - val_loss: 0.1349 - val_accuracy: 0.9586\n",
      "epoch 4\n",
      "591/591 [==============================] - 3s 5ms/step - loss: 0.0758 - accuracy: 0.9776 - val_loss: 0.1194 - val_accuracy: 0.9650\n",
      "epoch 5\n",
      "591/591 [==============================] - 3s 5ms/step - loss: 0.0620 - accuracy: 0.9830 - val_loss: 0.1094 - val_accuracy: 0.9667\n",
      "epoch 6\n",
      "591/591 [==============================] - 3s 5ms/step - loss: 0.0489 - accuracy: 0.9860 - val_loss: 0.1126 - val_accuracy: 0.9671\n",
      "epoch 7\n",
      "591/591 [==============================] - 3s 5ms/step - loss: 0.0420 - accuracy: 0.9883 - val_loss: 0.1055 - val_accuracy: 0.9693\n",
      "epoch 8\n",
      "591/591 [==============================] - 3s 5ms/step - loss: 0.0335 - accuracy: 0.9908 - val_loss: 0.1093 - val_accuracy: 0.9693\n",
      "epoch 9\n",
      "591/591 [==============================] - 3s 5ms/step - loss: 0.0276 - accuracy: 0.9928 - val_loss: 0.1020 - val_accuracy: 0.9693\n",
      "epoch 10\n",
      "591/591 [==============================] - 3s 5ms/step - loss: 0.0223 - accuracy: 0.9947 - val_loss: 0.0954 - val_accuracy: 0.9731\n",
      "epoch 11\n",
      "591/591 [==============================] - 3s 5ms/step - loss: 0.0178 - accuracy: 0.9960 - val_loss: 0.1018 - val_accuracy: 0.9714\n",
      "epoch 12\n",
      "591/591 [==============================] - 3s 4ms/step - loss: 0.0144 - accuracy: 0.9974 - val_loss: 0.1015 - val_accuracy: 0.9736\n",
      "epoch 13\n",
      "591/591 [==============================] - 3s 5ms/step - loss: 0.0113 - accuracy: 0.9983 - val_loss: 0.1004 - val_accuracy: 0.9717\n",
      "epoch 14\n",
      "591/591 [==============================] - 3s 6ms/step - loss: 0.0094 - accuracy: 0.9988 - val_loss: 0.0984 - val_accuracy: 0.9745\n",
      "epoch 15\n",
      "591/591 [==============================] - 3s 5ms/step - loss: 0.0085 - accuracy: 0.9989 - val_loss: 0.1003 - val_accuracy: 0.9721\n",
      "epoch 16\n",
      "591/591 [==============================] - 3s 4ms/step - loss: 0.0063 - accuracy: 0.9995 - val_loss: 0.0991 - val_accuracy: 0.9743\n",
      "epoch 17\n",
      "591/591 [==============================] - 3s 5ms/step - loss: 0.0051 - accuracy: 0.9997 - val_loss: 0.1028 - val_accuracy: 0.9729\n",
      "epoch 18\n",
      "591/591 [==============================] - 3s 5ms/step - loss: 0.0044 - accuracy: 0.9998 - val_loss: 0.1018 - val_accuracy: 0.9743\n",
      "epoch 19\n",
      "591/591 [==============================] - 3s 4ms/step - loss: 0.0038 - accuracy: 0.9999 - val_loss: 0.1042 - val_accuracy: 0.9729\n"
     ]
    }
   ],
   "source": [
    "for epoch in range(0, 20):\n",
    "    print('epoch', epoch)\n",
    "    #set epochs=1\n",
    "    history=model.fit(x_train, y_train, batch_size=64, epochs=1, validation_data=(x_val, y_val))\n",
    "    loss_train_list.extend(history.history['loss'])\n",
    "    loss_val_list.extend(history.history['val_loss'])\n",
    "    acc_train_list.extend(history.history['accuracy'])\n",
    "    acc_val_list.extend(history.history['val_accuracy'])\n",
    "    #save the model to a a HDF5 file\n",
    "    if (epoch+1)%10 == 0:\n",
    "        model.save('MLP_Keras_e'+str(epoch)+'.h5')"
   ]
  },
  {
   "cell_type": "markdown",
   "id": "a6cf1a09",
   "metadata": {
    "papermill": {
     "duration": 0.068692,
     "end_time": "2023-02-04T22:42:00.816326",
     "exception": false,
     "start_time": "2023-02-04T22:42:00.747634",
     "status": "completed"
    },
    "tags": []
   },
   "source": [
    "Plot training histroy: loss vs epoch and accuracy vs epoch"
   ]
  },
  {
   "cell_type": "code",
   "execution_count": 17,
   "id": "a4246137",
   "metadata": {
    "execution": {
     "iopub.execute_input": "2023-02-04T22:42:00.956720Z",
     "iopub.status.busy": "2023-02-04T22:42:00.955999Z",
     "iopub.status.idle": "2023-02-04T22:42:00.961748Z",
     "shell.execute_reply": "2023-02-04T22:42:00.960969Z"
    },
    "papermill": {
     "duration": 0.078591,
     "end_time": "2023-02-04T22:42:00.963754",
     "exception": false,
     "start_time": "2023-02-04T22:42:00.885163",
     "status": "completed"
    },
    "tags": []
   },
   "outputs": [
    {
     "data": {
      "text/plain": [
       "dict_keys(['loss', 'accuracy', 'val_loss', 'val_accuracy'])"
      ]
     },
     "execution_count": 17,
     "metadata": {},
     "output_type": "execute_result"
    }
   ],
   "source": [
    "history.history.keys()"
   ]
  },
  {
   "cell_type": "code",
   "execution_count": 18,
   "id": "29b8fc16",
   "metadata": {
    "execution": {
     "iopub.execute_input": "2023-02-04T22:42:01.106354Z",
     "iopub.status.busy": "2023-02-04T22:42:01.105604Z",
     "iopub.status.idle": "2023-02-04T22:42:01.485720Z",
     "shell.execute_reply": "2023-02-04T22:42:01.484478Z"
    },
    "papermill": {
     "duration": 0.455096,
     "end_time": "2023-02-04T22:42:01.488306",
     "exception": false,
     "start_time": "2023-02-04T22:42:01.033210",
     "status": "completed"
    },
    "tags": []
   },
   "outputs": [
    {
     "data": {
      "image/png": "[encoded data removed]",
      "text/plain": [
       "<Figure size 864x432 with 2 Axes>"
      ]
     },
     "metadata": {
      "needs_background": "light"
     },
     "output_type": "display_data"
    }
   ],
   "source": [
    "fig, ax = plt.subplots(1, 2, figsize=(12,6))\n",
    "ax[0].plot(np.arange(0,len(loss_train_list)), loss_train_list, '-r', label='training loss')\n",
    "ax[0].plot(np.arange(0,len(loss_val_list)), loss_val_list, '-g', label='validation loss')\n",
    "ax[0].set_xlabel('epoch',fontsize=16)\n",
    "ax[0].legend(fontsize=16)\n",
    "ax[0].grid(True)\n",
    "ax[1].plot(np.arange(0,len(acc_train_list)), acc_train_list, '-r', label='training accuracy')\n",
    "ax[1].plot(np.arange(0,len(acc_val_list)), acc_val_list, '-g', label='validation accuracy')\n",
    "ax[1].set_xlabel('epoch',fontsize=16)\n",
    "ax[1].legend(fontsize=16)\n",
    "ax[1].grid(True)"
   ]
  },
  {
   "cell_type": "code",
   "execution_count": 19,
   "id": "cde9c70a",
   "metadata": {
    "execution": {
     "iopub.execute_input": "2023-02-04T22:42:01.629378Z",
     "iopub.status.busy": "2023-02-04T22:42:01.628963Z",
     "iopub.status.idle": "2023-02-04T22:42:01.695615Z",
     "shell.execute_reply": "2023-02-04T22:42:01.694310Z"
    },
    "papermill": {
     "duration": 0.140644,
     "end_time": "2023-02-04T22:42:01.698469",
     "exception": false,
     "start_time": "2023-02-04T22:42:01.557825",
     "status": "completed"
    },
    "tags": []
   },
   "outputs": [],
   "source": [
    "# load the best model\n",
    "from keras.models import load_model\n",
    "model = load_model('MLP_Keras_e9.h5')"
   ]
  },
  {
   "cell_type": "markdown",
   "id": "b59b0268",
   "metadata": {
    "papermill": {
     "duration": 0.06924,
     "end_time": "2023-02-04T22:42:01.838567",
     "exception": false,
     "start_time": "2023-02-04T22:42:01.769327",
     "status": "completed"
    },
    "tags": []
   },
   "source": [
    "# 6) Predict the test data"
   ]
  },
  {
   "cell_type": "code",
   "execution_count": 20,
   "id": "54d9c5b8",
   "metadata": {
    "execution": {
     "iopub.execute_input": "2023-02-04T22:42:01.980460Z",
     "iopub.status.busy": "2023-02-04T22:42:01.979722Z",
     "iopub.status.idle": "2023-02-04T22:42:03.385973Z",
     "shell.execute_reply": "2023-02-04T22:42:03.384995Z"
    },
    "papermill": {
     "duration": 1.480137,
     "end_time": "2023-02-04T22:42:03.388660",
     "exception": false,
     "start_time": "2023-02-04T22:42:01.908523",
     "status": "completed"
    },
    "tags": []
   },
   "outputs": [],
   "source": [
    "# prediction\n",
    "result = model.predict(x_test)\n",
    "result = np.argmax(result, axis=1)"
   ]
  },
  {
   "cell_type": "code",
   "execution_count": 21,
   "id": "525e4b29",
   "metadata": {
    "execution": {
     "iopub.execute_input": "2023-02-04T22:42:03.534689Z",
     "iopub.status.busy": "2023-02-04T22:42:03.534048Z",
     "iopub.status.idle": "2023-02-04T22:42:04.719992Z",
     "shell.execute_reply": "2023-02-04T22:42:04.718612Z"
    },
    "papermill": {
     "duration": 1.261684,
     "end_time": "2023-02-04T22:42:04.722574",
     "exception": false,
     "start_time": "2023-02-04T22:42:03.460890",
     "status": "completed"
    },
    "tags": []
   },
   "outputs": [
    {
     "data": {
      "image/png": "[encoded data removed]",
      "text/plain": [
       "<Figure size 1080x504 with 10 Axes>"
      ]
     },
     "metadata": {
      "needs_background": "light"
     },
     "output_type": "display_data"
    }
   ],
   "source": [
    "# sample predictions\n",
    "plt.figure(figsize=(15,7))\n",
    "for i in range(10):\n",
    "    plt.subplot(2,5,i+1)\n",
    "    plt.imshow(x_test[result==i][0].reshape(28,28), cmap='gray')\n",
    "    plt.title(f\"Predicted: {i}\")\n",
    "plt.show()"
   ]
  },
  {
   "cell_type": "markdown",
   "id": "4bd9d8f8",
   "metadata": {
    "papermill": {
     "duration": 0.070635,
     "end_time": "2023-02-04T22:42:04.864466",
     "exception": false,
     "start_time": "2023-02-04T22:42:04.793831",
     "status": "completed"
    },
    "tags": []
   },
   "source": [
    "# 7) Submit the prediction"
   ]
  },
  {
   "cell_type": "code",
   "execution_count": 22,
   "id": "eeef4b0e",
   "metadata": {
    "execution": {
     "iopub.execute_input": "2023-02-04T22:42:05.006267Z",
     "iopub.status.busy": "2023-02-04T22:42:05.005526Z",
     "iopub.status.idle": "2023-02-04T22:42:05.070461Z",
     "shell.execute_reply": "2023-02-04T22:42:05.069108Z"
    },
    "papermill": {
     "duration": 0.139008,
     "end_time": "2023-02-04T22:42:05.072988",
     "exception": false,
     "start_time": "2023-02-04T22:42:04.933980",
     "status": "completed"
    },
    "tags": []
   },
   "outputs": [
    {
     "data": {
      "text/html": [
       "<div>\n",
       "<style scoped>\n",
       "    .dataframe tbody tr th:only-of-type {\n",
       "        vertical-align: middle;\n",
       "    }\n",
       "\n",
       "    .dataframe tbody tr th {\n",
       "        vertical-align: top;\n",
       "    }\n",
       "\n",
       "    .dataframe thead th {\n",
       "        text-align: right;\n",
       "    }\n",
       "</style>\n",
       "<table border=\"1\" class=\"dataframe\">\n",
       "  <thead>\n",
       "    <tr style=\"text-align: right;\">\n",
       "      <th></th>\n",
       "      <th>Label</th>\n",
       "    </tr>\n",
       "    <tr>\n",
       "      <th>ImageId</th>\n",
       "      <th></th>\n",
       "    </tr>\n",
       "  </thead>\n",
       "  <tbody>\n",
       "    <tr>\n",
       "      <th>1</th>\n",
       "      <td>2</td>\n",
       "    </tr>\n",
       "    <tr>\n",
       "      <th>2</th>\n",
       "      <td>0</td>\n",
       "    </tr>\n",
       "    <tr>\n",
       "      <th>3</th>\n",
       "      <td>9</td>\n",
       "    </tr>\n",
       "    <tr>\n",
       "      <th>4</th>\n",
       "      <td>9</td>\n",
       "    </tr>\n",
       "    <tr>\n",
       "      <th>5</th>\n",
       "      <td>3</td>\n",
       "    </tr>\n",
       "    <tr>\n",
       "      <th>...</th>\n",
       "      <td>...</td>\n",
       "    </tr>\n",
       "    <tr>\n",
       "      <th>27996</th>\n",
       "      <td>9</td>\n",
       "    </tr>\n",
       "    <tr>\n",
       "      <th>27997</th>\n",
       "      <td>7</td>\n",
       "    </tr>\n",
       "    <tr>\n",
       "      <th>27998</th>\n",
       "      <td>3</td>\n",
       "    </tr>\n",
       "    <tr>\n",
       "      <th>27999</th>\n",
       "      <td>9</td>\n",
       "    </tr>\n",
       "    <tr>\n",
       "      <th>28000</th>\n",
       "      <td>2</td>\n",
       "    </tr>\n",
       "  </tbody>\n",
       "</table>\n",
       "<p>28000 rows × 1 columns</p>\n",
       "</div>"
      ],
      "text/plain": [
       "         Label\n",
       "ImageId       \n",
       "1            2\n",
       "2            0\n",
       "3            9\n",
       "4            9\n",
       "5            3\n",
       "...        ...\n",
       "27996        9\n",
       "27997        7\n",
       "27998        3\n",
       "27999        9\n",
       "28000        2\n",
       "\n",
       "[28000 rows x 1 columns]"
      ]
     },
     "execution_count": 22,
     "metadata": {},
     "output_type": "execute_result"
    }
   ],
   "source": [
    "submission.Label = result\n",
    "submission.to_csv('submission.csv')\n",
    "pd.read_csv('submission.csv',index_col=0)"
   ]
  },
  {
   "cell_type": "code",
   "execution_count": null,
   "id": "5c4ded49",
   "metadata": {
    "papermill": {
     "duration": 0.150698,
     "end_time": "2023-02-04T22:42:05.296489",
     "exception": false,
     "start_time": "2023-02-04T22:42:05.145791",
     "status": "completed"
    },
    "tags": []
   },
   "outputs": [],
   "source": []
  }
 ],
 "metadata": {
  "kernelspec": {
   "display_name": "Python 3",
   "language": "python",
   "name": "python3"
  },
  "language_info": {
   "codemirror_mode": {
    "name": "ipython",
    "version": 3
   },
   "file_extension": ".py",
   "mimetype": "text/x-python",
   "name": "python",
   "nbconvert_exporter": "python",
   "pygments_lexer": "ipython3",
   "version": "3.7.12"
  },
  "papermill": {
   "default_parameters": {},
   "duration": 167.265135,
   "end_time": "2023-02-04T22:42:08.359117",
   "environment_variables": {},
   "exception": null,
   "input_path": "__notebook__.ipynb",
   "output_path": "__notebook__.ipynb",
   "parameters": {},
   "start_time": "2023-02-04T22:39:21.093982",
   "version": "2.3.4"
  }
 },
 "nbformat": 4,
 "nbformat_minor": 5
}
